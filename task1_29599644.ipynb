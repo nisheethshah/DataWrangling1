{
 "cells": [
  {
   "attachments": {
    "monash-1.png": {
     "image/png": "[encoded data removed]"
    }
   },
   "cell_type": "markdown",
   "metadata": {},
   "source": [
    "![monash-1.png](attachment:monash-1.png)"
   ]
  },
  {
   "cell_type": "markdown",
   "metadata": {},
   "source": [
    "# FIT5196 Task 1 in Assessment 1\n",
    "#### Student Name: Nisheeth Shah\n",
    "#### Student ID: 29599644\n",
    "\n",
    "Date: 02/09/2018\n",
    "\n",
    "Environment: Python 3.x and Jupyter notebook\n",
    "\n",
    "Libraries used: please include the main libraries you used in your assignment here, e.g.,:\n",
    "* os (for accessing path) \n",
    "* re (for regular expression, included in Anaconda Python 2.7) \n",
    "* json (for handling json data file) "
   ]
  },
  {
   "cell_type": "markdown",
   "metadata": {},
   "source": [
    "## Task 1: Parsing Raw Text Files "
   ]
  },
  {
   "cell_type": "markdown",
   "metadata": {},
   "source": [
    "### Importing required libraries"
   ]
  },
  {
   "cell_type": "code",
   "execution_count": 71,
   "metadata": {},
   "outputs": [],
   "source": [
    "import re\n",
    "import json\n",
    "import os"
   ]
  },
  {
   "cell_type": "markdown",
   "metadata": {},
   "source": [
    "### Reading dat data file"
   ]
  },
  {
   "cell_type": "code",
   "execution_count": 72,
   "metadata": {},
   "outputs": [],
   "source": [
    "with open('29599644.dat','r') as dat_file:\n",
    "    content = dat_file.readlines()"
   ]
  },
  {
   "cell_type": "markdown",
   "metadata": {},
   "source": [
    "### Check the total number of jobs posts"
   ]
  },
  {
   "cell_type": "markdown",
   "metadata": {},
   "source": [
    "Every job ends by \"------------------------------\" in the file. We count the number of such dashes to identify the number of jobs."
   ]
  },
  {
   "cell_type": "code",
   "execution_count": 73,
   "metadata": {},
   "outputs": [
    {
     "name": "stdout",
     "output_type": "stream",
     "text": [
      "Total number of job posts: 31780\n"
     ]
    }
   ],
   "source": [
    "number_of_jobs = 0\n",
    "\n",
    "# converting the list of lines into one string\n",
    "content_str = \"\".join(content)\n",
    "content_str.replace(\"OPEN TO/\", \"\").replace(\"REMUNERATION/\", \"\")\n",
    "content_str.replace(\"\\n\\n\", \"\")\n",
    "\n",
    "\n",
    "number_of_jobs = content_str.count(\"------------------------------\")\n",
    "print(\"Total number of job posts:\", number_of_jobs)"
   ]
  },
  {
   "cell_type": "markdown",
   "metadata": {},
   "source": [
    "### List of 11 regular expressions"
   ]
  },
  {
   "cell_type": "code",
   "execution_count": 74,
   "metadata": {},
   "outputs": [],
   "source": [
    "# List of regular expression to CATCH ALL THE TEXTS after wherever header (\"id:\", \"title, \"location\", etc) found\n",
    "regexes = ['ID: (\\d{5})',\n",
    "           '\\n(JOB)?(_|\\s)?t(tl)?(itle)?(s)?:(.*\\n*)*',\n",
    "           '\\n((job)?(_|\\s)?loc(ation)?(s)?):(.*\\n*)*',\n",
    "           '\\n((job)?(_|\\s)?desc(ription)?(s)?):(.*\\n*)*',\n",
    "           '\\n((job)?(_|\\s)?resp(s)?(ONSIBILIT)?(y|ies)?):(.*\\n*)*',\n",
    "           '\\n((REQ)?(UIRED)?(_|\\s)?QUAL(IF)?(ICATION)?(S)?):(.*\\n*)*',\n",
    "           '\\n((REMUNERATION)|((job)?(_|\\s)?sal(ary)?)):(.*\\n*)*',\n",
    "           '\\n(job)?(_|\\s)?proc(edure)?(s)?:(.*\\n*)*',\n",
    "           '\\n((DA(TE)?(s)?(_|\\s)?(START)?)|(START(_|\\s)?DA(TE)?)):(.*\\n*)*',\n",
    "           '\\n((APPLICATION_D(EAD)?L)|(DEAD(_)?LINE(s)?)):(.*\\n*)*',\n",
    "           '\\n((ABOUT(_|\\s)?(COMPANY)?)|((COMPANY)?(S)?_INFO)):(.*\\n*)*']\n",
    "\n",
    "# List of regular expression to CATCH ONLY THE HEADERS\n",
    "regexes_tags = [\"ID: (\\d{5})\",\n",
    "           \"\\n(JOB)?(_|\\s)?t(tl)?(itle)?(s)?: \",\n",
    "           \"\\n((job)?(_|\\s)?loc(ation)?(s)?): \",\n",
    "           \"\\n((job)?(_|\\s)?desc(ription)?(s)?): \",\n",
    "           \"\\n((job)?(_|\\s)?resp(s)?(ONSIBILIT)?(y|ies)?):\",\n",
    "           \"\\n((REQ)?(UIRED)?(_|\\s)?QUAL(IF)?(ICATION)?(S)?):\",\n",
    "           \"\\n((REMUNERATION)|((job)?(_|\\s)?sal(ary)?)): \",\n",
    "           \"\\n(job)?(_|\\s)?proc(edure)?(s)?: \",\n",
    "           \"\\n((DA(TE)?(s)?(_|\\s)?(START)?)|(START(_|\\s)?DA(TE)?)): \",\n",
    "           \"\\n((APPLICATION_D(EAD)?L)|(DEAD(_)?LINE(s)?)): \",\n",
    "           \"\\n((ABOUT(_|\\s)?(COMPANY)?)|((COMPANY)?(S)?_INFO)):\"]"
   ]
  },
  {
   "cell_type": "markdown",
   "metadata": {},
   "source": [
    "### Function to find the content for each header (\"id:\", \"title, \"location\", etc)\n",
    "For e.g.: for below job:\n",
    "\n",
    "<font color = \"blue\">\n",
    "ID: 48505\n",
    "COMPANYS_INFO:\n",
    " Triyan LLC is a food importing and processing company.\n",
    "LOCATION: Yerevan, Armenia\n",
    "DEAD_LINE: 04 April 2015\n",
    "START DATE: 12 October 2015\n",
    "JOB RESPONSIBILITIES:\n",
    " The study of supply of internal market and demand\n",
    "of external(foreign) market.\n",
    "job_desc: The incumbent will be responsible for customers'\n",
    "settlement transaction processing.\n",
    "REQUIRED QUALIFICATIONS:\n",
    " - Higher education in relevant field;\n",
    "- Minimum one year of operational experience as a chief accountant,\n",
    "experience in banking system is desirable.\n",
    "REMUNERATION/\n",
    "JOB TITLE: Suitably qualified professional firms or groups of individual\n",
    "trainers\n",
    "OPEN TO/\n",
    "remuneration: Highly competitive, based on experience.</font>\n",
    "\n",
    "The inside content for \"title\" will be:\n",
    "<font color = \"blue\">Suitably qualified professional firms or groups of individual trainers</font>"
   ]
  },
  {
   "cell_type": "markdown",
   "metadata": {},
   "source": [
    "<font color = \"red\">Note: we'll use the term regex for regular expression in the whole document</font>"
   ]
  },
  {
   "cell_type": "code",
   "execution_count": 75,
   "metadata": {},
   "outputs": [],
   "source": [
    "def occurrence_check(regex_str, group_number):\n",
    "    \n",
    "#     Split all the jobs from string to individual jobs\n",
    "    individual_jobs = content_str.split(\"------------------------------\")\n",
    "    result_list = []\n",
    "    found_count = 0\n",
    "    \n",
    "#     By using split, an empty element is added in the list in the end. We remove this last element\n",
    "    individual_jobs = individual_jobs[:-1]\n",
    "    \n",
    "    for each_job in individual_jobs:\n",
    "        \n",
    "#         If the regex is found -\n",
    "        if re.search(regex_str, each_job, re.IGNORECASE):\n",
    "            \n",
    "#             store the found string in temporary string variable\n",
    "            temp_str = re.search(regex_str, each_job, re.IGNORECASE).group(group_number)\n",
    "            \n",
    "#         We remove the headers and keep only the inside content - \n",
    "            for each_reg in regexes[1:]:\n",
    "                \n",
    "                if (each_reg != regex_str) and re.search(each_reg, temp_str, re.IGNORECASE):\n",
    "                    m = re.search(each_reg, temp_str, re.IGNORECASE).group(0)\n",
    "                    temp_str = temp_str.replace(m, \"\")\n",
    "    \n",
    "            for each_reg in regexes_tags[1:]:\n",
    "                if re.search(each_reg, temp_str, re.IGNORECASE):\n",
    "                    m = re.search(each_reg, temp_str, re.IGNORECASE).group(0)\n",
    "                    temp_str = temp_str.replace(m, \"\")\n",
    "\n",
    "#             Append each inside content into result_list list variable\n",
    "            result_list.append(temp_str + \"\\n\")\n",
    "            \n",
    "            found_count += 1\n",
    "            \n",
    "#         If nothing found by regex, we add NA for that header tag\n",
    "        else:\n",
    "            result_list.append(\"\\nNA\" + \"\\n\")\n",
    "            \n",
    "#     Return the found+not found result of the function\n",
    "    return result_list"
   ]
  },
  {
   "cell_type": "markdown",
   "metadata": {},
   "source": [
    "The above function works with following steps:\n",
    "- Pull data for each header till the end of the job ad\n",
    "- Use another set of regex to remove all the junk info. For eg.: sub data for title will include all data from title to the end of the ad. This includes other headers too. But we use another set of regex and remove the junk. Therefore, the sub data for title will include data only for title\n",
    "- This approach is implemented on all the headers\n",
    "- Moreover, other steps are also implemented like removing the stopwords"
   ]
  },
  {
   "cell_type": "markdown",
   "metadata": {},
   "source": [
    "### Call above function for all the headers and store the result in respective list"
   ]
  },
  {
   "cell_type": "code",
   "execution_count": 76,
   "metadata": {},
   "outputs": [],
   "source": [
    "id_list = occurrence_check(regexes[0], 1)\n",
    "jobtitle_list = occurrence_check(regexes[1], 0)\n",
    "joblocation_list = occurrence_check(regexes[2], 0)\n",
    "jobdescription_list = occurrence_check(regexes[3], 0)\n",
    "jobresponsibility_list = occurrence_check(regexes[4], 0)\n",
    "jobqualification_list = occurrence_check(regexes[5], 0)\n",
    "jobsalary_list = occurrence_check(regexes[6], 0)\n",
    "jobprocedure_list = occurrence_check(regexes[7], 0)\n",
    "startdate_list = occurrence_check(regexes[8], 0)\n",
    "enddate_list = occurrence_check(regexes[9], 0)\n",
    "about_list = occurrence_check(regexes[10], 0)"
   ]
  },
  {
   "cell_type": "markdown",
   "metadata": {},
   "source": [
    "### Now that we have all the inside content of each header, we shall create XML file using respective header list"
   ]
  },
  {
   "cell_type": "code",
   "execution_count": 77,
   "metadata": {},
   "outputs": [
    {
     "name": "stdout",
     "output_type": "stream",
     "text": [
      "XML file created!\n"
     ]
    }
   ],
   "source": [
    "# Open/create an XML file with 'write' rights\n",
    "\n",
    "f = open(\"29599644.xml\",\"w+\")\n",
    "\n",
    "# Enter the content in the XML file for each header\n",
    "f.write('<?xml version=\"1.0\" encoding=\"UTF-8\" ?>\\n')\n",
    "\n",
    "f.write(\"<listings>\\n\")\n",
    "for i in range(len(id_list)):\n",
    "#     Start listing tag followed by ID\n",
    "    f.write(\"\\t<listing id='\"+ id_list[i].replace(\"\\n\",\"\") + \"'>\\n\")\n",
    "    \n",
    "#     Job Title\n",
    "    f.write(\"\\t\\t<title>\"+ jobtitle_list[i].replace(\"\\n\",\" \").strip(' ') + \"</title>\\n\")\n",
    "    \n",
    "#     Job Location\n",
    "    f.write(\"\\t\\t<location>\"+ joblocation_list[i].replace(\"\\n\",\" \").strip(' ').rstrip('.') + \"</location>\\n\")\n",
    "    \n",
    "#     Job Description\n",
    "    f.write(\"\\t\\t<job_descriptions>\\n\")\n",
    "    f.write(\"\\t\\t\\t<job_description>\\n\")\n",
    "    f.write(\"\\t\\t\\t\\t\" + jobdescription_list[i].replace(\"\\n\",\" \").strip(' ').rstrip('.') + \"\\n\")\n",
    "    f.write(\"\\t\\t\\t</job_description>\\n\")            \n",
    "    f.write(\"\\t\\t</job_descriptions>\\n\")\n",
    "    \n",
    "#     Job responsibility\n",
    "    f.write(\"\\t\\t<job_responsibilities>\\n\")\n",
    "    str_resp = jobresponsibility_list[i].replace(\" - \", \"- \").replace(\"\\n\", \"\")\n",
    "    str_resp_splitlist = str_resp.split(\";- \")\n",
    "    for each_element in str_resp_splitlist:\n",
    "        f.write(\"\\t\\t\\t<responsibility>\\n\")\n",
    "        f.write(\"\\t\\t\\t\\t\" + each_element.lstrip(\"- \").rstrip(\".\") + \"\\n\")\n",
    "        f.write(\"\\t\\t\\t</responsibility>\\n\")            \n",
    "    f.write(\"\\t\\t</job_responsibilities>\\n\")\n",
    "    \n",
    "#     Job Qualifications\n",
    "    f.write(\"\\t\\t<required_qualifications>\\n\")\n",
    "    str_qual = jobqualification_list[i].replace(\" - \", \"- \").replace(\"\\n\", \"\")\n",
    "    str_qual_splitlist = str_qual.split(\";- \")\n",
    "    for each_element in str_qual_splitlist:\n",
    "        f.write(\"\\t\\t\\t<qualification>\\n\")\n",
    "        f.write(\"\\t\\t\\t\\t\" + each_element.lstrip(\"- \").rstrip(\".\") + \"\\n\")\n",
    "        f.write(\"\\t\\t\\t</qualification>\\n\")            \n",
    "    f.write(\"\\t\\t</required_qualifications>\\n\")\n",
    "    \n",
    "#     Salary\n",
    "    f.write(\"\\t\\t<salary>\" + jobsalary_list[i].replace(\"\\n\",\" \").strip(' ').rstrip('.') + \"</salary>\\n\")\n",
    "    \n",
    "#     Procedure\n",
    "    f.write(\"\\t\\t<application_procedure>\\n\\t\\t\\t\" + jobprocedure_list[i].replace(\"\\n\",\" \").strip(' ').rstrip('.') + \"\\n\\t\\t</application_procedure>\\n\")\n",
    "    \n",
    "#     Start date\n",
    "    f.write(\"\\t\\t<start_date>\" + startdate_list[i].replace(\"\\n\",\" \").strip(' ').rstrip('.') + \"</start_date>\\n\")\n",
    "    \n",
    "#     End date\n",
    "    f.write(\"\\t\\t<application_deadline>\" + enddate_list[i].replace(\"\\n\",\" \").strip(' ').rstrip('.') + \"</application_deadline>\\n\")\n",
    "    \n",
    "#     About\n",
    "    f.write(\"\\t\\t<about_company>\" + about_list[i].replace(\"\\n\",\" \").strip(' ').rstrip('.') + \"</about_company>\\n\")\n",
    "\n",
    "#     End the listing tag\n",
    "    f.write(\"\\t</listing>\\n\")\n",
    "\n",
    "f.write(\"</listings>\\n\")\n",
    "    \n",
    "\n",
    "f.close()\n",
    "print(\"XML file created!\")"
   ]
  },
  {
   "cell_type": "markdown",
   "metadata": {},
   "source": [
    "### Similarly, we create JSON file which will also have the inside content of each header"
   ]
  },
  {
   "cell_type": "code",
   "execution_count": 78,
   "metadata": {},
   "outputs": [
    {
     "name": "stdout",
     "output_type": "stream",
     "text": [
      "JSON file created!\n"
     ]
    }
   ],
   "source": [
    "# Open/create an JSON file with 'write' rights\n",
    "f = open(\"29599644.json\",\"w+\")\n",
    "\n",
    "# Enter the content in the JSON file for each header\n",
    "f.write('{\\n\\t\"listings\": {\\n')\n",
    "for i in range(len(id_list)):\n",
    "#     Open listing tag\n",
    "    f.write('\\t\\t\"listing\": [{\\n')\n",
    "    \n",
    "#     ID\n",
    "    f.write('\\t\\t\\t\"_id\": \"' + id_list[i].replace(\"\\n\",\"\") +'\",\\n')\n",
    "    \n",
    "#     Job Title\n",
    "    f.write('\\t\\t\\t\"title\": \"' + jobtitle_list[i].replace(\"\\n\",\" \").strip(' ') +'\",\\n')\n",
    "    \n",
    "#     Job Location\n",
    "    f.write('\\t\\t\\t\"location\": \"' + joblocation_list[i].replace(\"\\n\",\" \").strip(' ').rstrip('.') +'\",\\n')\n",
    "    \n",
    "#     Job Description\n",
    "    f.write('\\t\\t\\t\"job_descriptions\": {\\n\\n')\n",
    "    f.write('\\t\\t\\t\\t\"description\": [\"' + jobdescription_list[i].replace(\"\\n\",\" \").strip(' ').rstrip('.') + '\"]')\n",
    "    f.write('\\n\\t\\t\\t},')\n",
    "    \n",
    "#     Job responsibility\n",
    "    f.write('\\n\\t\\t\\t\"job_responsibilities\": {\\n')\n",
    "    f.write('\\t\\t\\t\\t\"responsibility\": [')\n",
    "    str_resp = jobresponsibility_list[i].replace(\" - \", \"- \").replace(\"\\n\", \"\")\n",
    "    str_resp_splitlist = str_resp.split(\";- \")\n",
    "    temp_str_resp = ''\n",
    "    for each_element in str_resp_splitlist:\n",
    "            temp_str_resp = temp_str_resp + '\\n\\t\\t\\t\\t\\t\"' + each_element.lstrip(\"- \").rstrip(\".\") + '\",'\n",
    "    temp_str_resp = temp_str_resp[:-1]\n",
    "    f.write(temp_str_resp)\n",
    "    f.write('\\n\\t\\t\\t\\t]')\n",
    "    f.write('\\n\\t\\t\\t},')\n",
    "    \n",
    "#     Job qualification\n",
    "    f.write('\\n\\t\\t\\t\"required_qualifications\": {\\n')\n",
    "    f.write('\\t\\t\\t\\t\"qualification\": [')\n",
    "    str_qual = jobqualification_list[i].replace(\" - \", \"- \").replace(\"\\n\", \"\")\n",
    "    str_qual_splitlist = str_qual.split(\";- \")\n",
    "    temp_str_qual = ''\n",
    "    for each_element in str_qual_splitlist:\n",
    "            temp_str_qual = temp_str_qual + '\\n\\t\\t\\t\\t\\t\"' + each_element.lstrip(\"- \").rstrip(\".\") + '\",'\n",
    "    temp_str_qual = temp_str_qual[:-1]\n",
    "    f.write(temp_str_qual)\n",
    "    f.write('\\n\\t\\t\\t\\t]')\n",
    "    f.write('\\n\\t\\t\\t},')\n",
    "\n",
    "#     Salary\n",
    "    f.write('\\n\\t\\t\\t\"salary\": \"' + jobsalary_list[i].replace(\"\\n\",\" \").strip(' ') +'\",\\n')\n",
    "    \n",
    "#     Procedure\n",
    "    f.write('\\t\\t\\t\"application_procedure\": \"' + jobprocedure_list[i].replace(\"\\n\",\" \").strip(' ') +'\",\\n')\n",
    "    \n",
    "#     Start date\n",
    "    f.write('\\t\\t\\t\"start_date\": \"' + startdate_list[i].replace(\"\\n\",\" \").strip(' ') +'\",\\n')\n",
    "    \n",
    "#     End data\n",
    "    f.write('\\t\\t\\t\"application_deadline\": \"' + enddate_list[i].replace(\"\\n\",\" \").strip(' ') +'\",\\n')\n",
    "    \n",
    "#     About\n",
    "    f.write('\\t\\t\\t\"about_company\": \"' + about_list[i].replace(\"\\n\",\" \").strip(' ') +'\",')\n",
    "    \n",
    "#     Close the tags\n",
    "    f.write(\"\\n\\t\\t}]\\n\")\n",
    "    f.write(\"\\t}\\n\")\n",
    "\n",
    "f.write(\"}\")\n",
    "    \n",
    "# Close the file\n",
    "f.close()\n",
    "print(\"JSON file created!\")"
   ]
  },
  {
   "cell_type": "code",
   "execution_count": null,
   "metadata": {},
   "outputs": [],
   "source": []
  },
  {
   "cell_type": "markdown",
   "metadata": {},
   "source": [
    "## Summary\n",
    "This task is about using regular expression to pull out some text in pattern from a big file of data.\n",
    "\n",
    "Firstly, all the jobs are seperated. Then used regular expression to pull sub content of each header till the end of the sub content. But this include some junk information too.\n",
    "To remove the junk data, we used regular expression again to remove the junk and make the sub content correct.\n",
    "\n",
    "In this fashion, we have pulled out correct data for each header.\n",
    "\n",
    "This correct data is written in XML or JSON file."
   ]
  }
 ],
 "metadata": {
  "kernelspec": {
   "display_name": "Python 3",
   "language": "python",
   "name": "python3"
  },
  "language_info": {
   "codemirror_mode": {
    "name": "ipython",
    "version": 3
   },
   "file_extension": ".py",
   "mimetype": "text/x-python",
   "name": "python",
   "nbconvert_exporter": "python",
   "pygments_lexer": "ipython3",
   "version": "3.6.4"
  }
 },
 "nbformat": 4,
 "nbformat_minor": 2
}
